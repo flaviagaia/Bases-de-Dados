{
  "nbformat": 4,
  "nbformat_minor": 0,
  "metadata": {
    "colab": {
      "name": "LeituraJSON.ipynb",
      "provenance": [],
      "authorship_tag": "ABX9TyPJEQOp+asnhtlkcIs3Uz7h",
      "include_colab_link": true
    },
    "kernelspec": {
      "name": "python3",
      "display_name": "Python 3"
    },
    "language_info": {
      "name": "python"
    }
  },
  "cells": [
    {
      "cell_type": "markdown",
      "metadata": {
        "id": "view-in-github",
        "colab_type": "text"
      },
      "source": [
        "<a href=\"https://colab.research.google.com/github/flaviagaia/Bases-de-Dados/blob/main/LeituraJSON.ipynb\" target=\"_parent\"><img src=\"https://colab.research.google.com/assets/colab-badge.svg\" alt=\"Open In Colab\"/></a>"
      ]
    },
    {
      "cell_type": "code",
      "metadata": {
        "colab": {
          "base_uri": "https://localhost:8080/"
        },
        "id": "-ddPuuFkRz8b",
        "outputId": "984d5c1d-3bee-4cea-dcff-f2df581d7278"
      },
      "source": [
        "import pandas as pd\n",
        "import numpy as np\n",
        "\n",
        "dt = pd.read_json(\"Untitled.json\")\n",
        "print(dt)"
      ],
      "execution_count": null,
      "outputs": [
        {
          "output_type": "stream",
          "text": [
            "                                             content                                           entities\n",
            "0  \\sc STF tem 5 votos para derrubar delacao de C...  [[938, 941, dentista, 3, rgb(151, 203, 54)], [...\n"
          ],
          "name": "stdout"
        }
      ]
    }
  ]
}